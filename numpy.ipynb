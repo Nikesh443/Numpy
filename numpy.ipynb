{
 "cells": [
  {
   "cell_type": "code",
   "execution_count": 8,
   "id": "7329d3a2-61d1-4405-864c-c5c7c047106c",
   "metadata": {},
   "outputs": [],
   "source": [
    "import numpy as np\n",
    "import time"
   ]
  },
  {
   "cell_type": "markdown",
   "id": "27f9483b-1ccb-4d5f-83f7-c38e868f2dcb",
   "metadata": {},
   "source": [
    "# zip"
   ]
  },
  {
   "cell_type": "code",
   "execution_count": 5,
   "id": "896c743f-0600-4cb0-9ca0-ff7437b3c609",
   "metadata": {},
   "outputs": [
    {
     "data": {
      "text/plain": [
       "[(1, 4), (2, 5), (3, 6), (4, 7)]"
      ]
     },
     "execution_count": 5,
     "metadata": {},
     "output_type": "execute_result"
    }
   ],
   "source": [
    "l1=[1,2,3,4]\n",
    "l2=[4,5,6,7]\n",
    "list(zip(l1,l2))"
   ]
  },
  {
   "cell_type": "code",
   "execution_count": 26,
   "id": "ed5a2d3f-f185-486f-a4d9-e73e829dce97",
   "metadata": {},
   "outputs": [
    {
     "name": "stdout",
     "output_type": "stream",
     "text": [
      "0.24407482147216797\n"
     ]
    }
   ],
   "source": [
    "# By using list\n",
    "a = 10000000\n",
    "list1 =list(range(a))\n",
    "list2 =list(range(a))\n",
    "strt = time.time()\n",
    "add = list1+list2\n",
    "end = time.time()\n",
    "print(end-strt)"
   ]
  },
  {
   "cell_type": "code",
   "execution_count": 28,
   "id": "90a13884-da8e-4e6d-879d-5a1039de3fff",
   "metadata": {},
   "outputs": [
    {
     "name": "stdout",
     "output_type": "stream",
     "text": [
      "0.6498496532440186\n"
     ]
    }
   ],
   "source": [
    "# By using numpy array\n",
    "a = 100000\n",
    "list1 = np.array(list(range(a)))\n",
    "list2 = np.array(list(range(a)))\n",
    "strt = time.time()\n",
    "add = list1+list2\n",
    "end = time.time()\n",
    "print(end-strt)\n"
   ]
  },
  {
   "cell_type": "code",
   "execution_count": null,
   "id": "c1891c9b-8c31-4fd8-b703-db09afe2e659",
   "metadata": {},
   "outputs": [],
   "source": [
    "- we use numpy arrays becaus it is very faster than lists."
   ]
  },
  {
   "cell_type": "markdown",
   "id": "25bd6580-fbb9-49a3-8a71-f4f34f4537a4",
   "metadata": {},
   "source": [
    "# create numpy arrays"
   ]
  },
  {
   "cell_type": "code",
   "execution_count": 35,
   "id": "c7939fcd-99cf-4e42-81d2-b7fcde781419",
   "metadata": {},
   "outputs": [
    {
     "data": {
      "text/plain": [
       "array(['1', '2', '3', '4', 'Harry'], dtype='<U11')"
      ]
     },
     "execution_count": 35,
     "metadata": {},
     "output_type": "execute_result"
    }
   ],
   "source": [
    "hello=np.array([1,2,3,4,'Harry']) # this will not work\n",
    "hello"
   ]
  },
  {
   "cell_type": "code",
   "execution_count": 37,
   "id": "742a0ffb-132b-4570-8286-8156e6701856",
   "metadata": {},
   "outputs": [
    {
     "data": {
      "text/plain": [
       "numpy.ndarray"
      ]
     },
     "execution_count": 37,
     "metadata": {},
     "output_type": "execute_result"
    }
   ],
   "source": [
    "type(hello)"
   ]
  },
  {
   "cell_type": "code",
   "execution_count": 54,
   "id": "01cfe15a-c67e-4dfe-b00b-c6b5aafb7471",
   "metadata": {},
   "outputs": [
    {
     "data": {
      "text/plain": [
       "(5,)"
      ]
     },
     "execution_count": 54,
     "metadata": {},
     "output_type": "execute_result"
    }
   ],
   "source": [
    "nikesh=np.array([1,2,3,4,5])\n",
    "nikesh.shape"
   ]
  },
  {
   "cell_type": "code",
   "execution_count": 35,
   "id": "d2abfa26-5979-4092-a01e-e9f3e2f57722",
   "metadata": {},
   "outputs": [
    {
     "data": {
      "text/plain": [
       "array([[1, 2, 3],\n",
       "       [2, 3, 4]])"
      ]
     },
     "execution_count": 35,
     "metadata": {},
     "output_type": "execute_result"
    }
   ],
   "source": [
    "np.array([[1,2,3],[2,3,4]])  # For 2 list we have to give two dimensions"
   ]
  },
  {
   "cell_type": "code",
   "execution_count": 47,
   "id": "b7984a4c-2acc-4bff-97b3-06ac96fc02e7",
   "metadata": {},
   "outputs": [
    {
     "data": {
      "text/plain": [
       "array([[1, 2, 3],\n",
       "       [2, 3, 4]])"
      ]
     },
     "execution_count": 47,
     "metadata": {},
     "output_type": "execute_result"
    }
   ],
   "source": [
    "np.array([[1,2,3],[2,3,4]])"
   ]
  },
  {
   "cell_type": "code",
   "execution_count": 95,
   "id": "4301c299-d0e9-4e42-a2f1-bdd9161a6bf0",
   "metadata": {},
   "outputs": [
    {
     "name": "stdout",
     "output_type": "stream",
     "text": [
      "[0, 1, 4, 9, 16, 25, 36, 49, 64, 81, 100]\n",
      "0.0154571533203125\n"
     ]
    }
   ],
   "source": [
    "a = 100000\n",
    "list1 = list(range(a))\n",
    "start = time.time()\n",
    "square = [x**2 for x in list1]\n",
    "end = time.time()\n",
    "print(square[0:11])\n",
    "print(end-start)"
   ]
  },
  {
   "cell_type": "code",
   "execution_count": 93,
   "id": "8087d9de-e86b-4819-8634-33d18c4c96a1",
   "metadata": {},
   "outputs": [
    {
     "name": "stdout",
     "output_type": "stream",
     "text": [
      "[  0   1   4   9  16  25  36  49  64  81 100]\n",
      "0.0\n"
     ]
    }
   ],
   "source": [
    "arr1 = np.array(list(range(a)))\n",
    "strt = time.time()\n",
    "sqre= arr1**2\n",
    "end = time.time()\n",
    "print(sqre[0:11])\n",
    "print(end-strt)"
   ]
  },
  {
   "cell_type": "markdown",
   "id": "5e8422f4-9ef1-48f8-b4f2-2a37a2b24115",
   "metadata": {},
   "source": [
    "- Here we can see numpy is very fast."
   ]
  },
  {
   "cell_type": "markdown",
   "id": "edade123-5851-41de-9fb8-54b037e01152",
   "metadata": {},
   "source": [
    "# creating numpy arrays"
   ]
  },
  {
   "cell_type": "code",
   "execution_count": 2,
   "id": "5ba7aac0-14dd-420e-a4b1-0da69089c162",
   "metadata": {},
   "outputs": [],
   "source": [
    "import numpy as np"
   ]
  },
  {
   "cell_type": "code",
   "execution_count": 12,
   "id": "729489d5-1d96-4f02-861d-57267251c741",
   "metadata": {},
   "outputs": [
    {
     "data": {
      "text/plain": [
       "array([1, 2, 3, 4])"
      ]
     },
     "execution_count": 12,
     "metadata": {},
     "output_type": "execute_result"
    }
   ],
   "source": [
    "arr1 = np.array([1,2,3,4])  # 1 d array\n",
    "arr1"
   ]
  },
  {
   "cell_type": "code",
   "execution_count": 14,
   "id": "1bc2f871-96e8-4d85-9066-23b3c09946a9",
   "metadata": {},
   "outputs": [
    {
     "data": {
      "text/plain": [
       "array([[1, 2, 3, 4],\n",
       "       [1, 4, 5, 6]])"
      ]
     },
     "execution_count": 14,
     "metadata": {},
     "output_type": "execute_result"
    }
   ],
   "source": [
    "arr2 = np.array([[1,2,3,4],[1,4,5,6]]) # 2d array\n",
    "arr2"
   ]
  },
  {
   "cell_type": "code",
   "execution_count": 6,
   "id": "17c16b63-c4ea-40ab-8dd3-272c70a76274",
   "metadata": {},
   "outputs": [
    {
     "data": {
      "text/plain": [
       "array([[0., 0., 0., 0.],\n",
       "       [0., 0., 0., 0.],\n",
       "       [0., 0., 0., 0.]])"
      ]
     },
     "execution_count": 6,
     "metadata": {},
     "output_type": "execute_result"
    }
   ],
   "source": [
    "# creating arrays from zeroes\n",
    "np.zeros((3,4))"
   ]
  },
  {
   "cell_type": "code",
   "execution_count": 10,
   "id": "822dfd1a-1dc3-4b94-b089-3c884e53332b",
   "metadata": {},
   "outputs": [
    {
     "data": {
      "text/plain": [
       "array([[1., 1., 1., 1.],\n",
       "       [1., 1., 1., 1.]])"
      ]
     },
     "execution_count": 10,
     "metadata": {},
     "output_type": "execute_result"
    }
   ],
   "source": [
    "# creating arrays from ones\n",
    "np.ones((2,4))"
   ]
  },
  {
   "cell_type": "code",
   "execution_count": 18,
   "id": "1864ebf7-92fc-4193-adf5-5616acb4c60a",
   "metadata": {},
   "outputs": [
    {
     "data": {
      "text/plain": [
       "array([[6, 6],\n",
       "       [6, 6]])"
      ]
     },
     "execution_count": 18,
     "metadata": {},
     "output_type": "execute_result"
    }
   ],
   "source": [
    "np.full((2,2),6)  # 2*2 matrix filled with 6"
   ]
  },
  {
   "cell_type": "code",
   "execution_count": 29,
   "id": "3160e9c3-4b0f-4991-b04e-8db1dee96aa0",
   "metadata": {},
   "outputs": [
    {
     "data": {
      "text/plain": [
       "array([[1., 0., 0., 0., 0.],\n",
       "       [0., 1., 0., 0., 0.],\n",
       "       [0., 0., 1., 0., 0.],\n",
       "       [0., 0., 0., 1., 0.],\n",
       "       [0., 0., 0., 0., 1.]])"
      ]
     },
     "execution_count": 29,
     "metadata": {},
     "output_type": "execute_result"
    }
   ],
   "source": [
    "np.eye(5)  # 5*5 Identity matrix"
   ]
  },
  {
   "cell_type": "code",
   "execution_count": 37,
   "id": "68600565-6b29-464f-97b1-90a6ceedb097",
   "metadata": {},
   "outputs": [
    {
     "data": {
      "text/plain": [
       "array([ 1, 10, 19, 28, 37, 46, 55, 64, 73, 82, 91])"
      ]
     },
     "execution_count": 37,
     "metadata": {},
     "output_type": "execute_result"
    }
   ],
   "source": [
    "np.arange(1,100,9) # 1 dekhi 100 samma 9 add hudai janxa (100 exclusive )"
   ]
  },
  {
   "cell_type": "code",
   "execution_count": 41,
   "id": "ade3db88-cb3d-4b29-86d0-47170f6c7ce6",
   "metadata": {},
   "outputs": [
    {
     "data": {
      "text/plain": [
       "array([  1.  ,  25.75,  50.5 ,  75.25, 100.  ])"
      ]
     },
     "execution_count": 41,
     "metadata": {},
     "output_type": "execute_result"
    }
   ],
   "source": [
    "np.linspace(1,100,5) # 5 elements ko equally spaced array dinxa"
   ]
  },
  {
   "cell_type": "code",
   "execution_count": 52,
   "id": "6e2f839e-12ea-4e6e-a6fa-9281d418c329",
   "metadata": {},
   "outputs": [
    {
     "data": {
      "text/plain": [
       "array([[ 1,  2,  3],\n",
       "       [ 4,  5,  6],\n",
       "       [ 7,  8,  9],\n",
       "       [11, 12, 13]])"
      ]
     },
     "execution_count": 52,
     "metadata": {},
     "output_type": "execute_result"
    }
   ],
   "source": [
    "my_arr = np.array([[1,2,3],[4,5,6],[7,8,9],[11,12,13]])\n",
    "my_arr"
   ]
  },
  {
   "cell_type": "code",
   "execution_count": 54,
   "id": "90a47a6f-2f48-439f-818e-25b40a769837",
   "metadata": {},
   "outputs": [
    {
     "data": {
      "text/plain": [
       "(4, 3)"
      ]
     },
     "execution_count": 54,
     "metadata": {},
     "output_type": "execute_result"
    }
   ],
   "source": [
    "my_arr.shape"
   ]
  },
  {
   "cell_type": "code",
   "execution_count": 58,
   "id": "3fe7aa53-838f-4763-b20c-3c4d409dbe8c",
   "metadata": {},
   "outputs": [
    {
     "data": {
      "text/plain": [
       "12"
      ]
     },
     "execution_count": 58,
     "metadata": {},
     "output_type": "execute_result"
    }
   ],
   "source": [
    "my_arr.size # total no of elements"
   ]
  },
  {
   "cell_type": "code",
   "execution_count": 62,
   "id": "91ace7ee-cecf-4946-9d3f-eb15b0a7c616",
   "metadata": {},
   "outputs": [
    {
     "data": {
      "text/plain": [
       "2"
      ]
     },
     "execution_count": 62,
     "metadata": {},
     "output_type": "execute_result"
    }
   ],
   "source": [
    "my_arr.ndim # dimension"
   ]
  },
  {
   "cell_type": "code",
   "execution_count": 64,
   "id": "d3e86fb0-fd14-4be0-bf1d-a2fda2acb463",
   "metadata": {},
   "outputs": [
    {
     "data": {
      "text/plain": [
       "dtype('int32')"
      ]
     },
     "execution_count": 64,
     "metadata": {},
     "output_type": "execute_result"
    }
   ],
   "source": [
    "my_arr.dtype"
   ]
  },
  {
   "cell_type": "code",
   "execution_count": 68,
   "id": "a0efecfb-61f9-474f-8e46-85f4eacc9a22",
   "metadata": {},
   "outputs": [],
   "source": [
    "# changig data types\n",
    "\n",
    "my_arr = np.array([[1,2,3],[4,5,6],[7,8,9],[11,12,13]], dtype=\"float32\")"
   ]
  },
  {
   "cell_type": "code",
   "execution_count": 70,
   "id": "7ddc7d2f-7fcd-4fa3-a8f0-1e3619130cc0",
   "metadata": {},
   "outputs": [
    {
     "data": {
      "text/plain": [
       "array([[ 1.,  2.,  3.],\n",
       "       [ 4.,  5.,  6.],\n",
       "       [ 7.,  8.,  9.],\n",
       "       [11., 12., 13.]], dtype=float32)"
      ]
     },
     "execution_count": 70,
     "metadata": {},
     "output_type": "execute_result"
    }
   ],
   "source": [
    "my_arr"
   ]
  },
  {
   "cell_type": "code",
   "execution_count": 74,
   "id": "60899af0-cfc3-4c88-9f4e-fe6b35abc690",
   "metadata": {},
   "outputs": [],
   "source": [
    "n=my_arr.astype('float64')"
   ]
  },
  {
   "cell_type": "code",
   "execution_count": 76,
   "id": "a6e552ad-6797-4dc2-8640-dac675702e1c",
   "metadata": {},
   "outputs": [
    {
     "data": {
      "text/plain": [
       "dtype('float64')"
      ]
     },
     "execution_count": 76,
     "metadata": {},
     "output_type": "execute_result"
    }
   ],
   "source": [
    "n.dtype"
   ]
  },
  {
   "cell_type": "code",
   "execution_count": 78,
   "id": "3a41861c-9b56-41ef-aa46-3aee5b53c49b",
   "metadata": {},
   "outputs": [],
   "source": [
    "reshaped = my_arr.reshape((3,4))"
   ]
  },
  {
   "cell_type": "code",
   "execution_count": 80,
   "id": "fe2256ef-889a-4355-85db-51a67c0bd0dc",
   "metadata": {},
   "outputs": [
    {
     "data": {
      "text/plain": [
       "array([[ 1.,  2.,  3.,  4.],\n",
       "       [ 5.,  6.,  7.,  8.],\n",
       "       [ 9., 11., 12., 13.]], dtype=float32)"
      ]
     },
     "execution_count": 80,
     "metadata": {},
     "output_type": "execute_result"
    }
   ],
   "source": [
    "reshaped"
   ]
  },
  {
   "cell_type": "code",
   "execution_count": 82,
   "id": "2a2cefc8-4f70-4daa-8780-cbab5f9c98ef",
   "metadata": {},
   "outputs": [
    {
     "data": {
      "text/plain": [
       "array([[ 1.,  2.],\n",
       "       [ 3.,  4.],\n",
       "       [ 5.,  6.],\n",
       "       [ 7.,  8.],\n",
       "       [ 9., 11.],\n",
       "       [12., 13.]], dtype=float32)"
      ]
     },
     "execution_count": 82,
     "metadata": {},
     "output_type": "execute_result"
    }
   ],
   "source": [
    "arr=reshaped.reshape((6,2))\n",
    "arr"
   ]
  },
  {
   "cell_type": "code",
   "execution_count": 86,
   "id": "3be154b3-25d0-4cd2-aab1-52764fd71011",
   "metadata": {},
   "outputs": [
    {
     "data": {
      "text/plain": [
       "array([ 1.,  2.,  3.,  4.,  5.,  6.,  7.,  8.,  9., 11., 12., 13.],\n",
       "      dtype=float32)"
      ]
     },
     "execution_count": 86,
     "metadata": {},
     "output_type": "execute_result"
    }
   ],
   "source": [
    "my_arr.flatten()  # convert  2D to 1D"
   ]
  },
  {
   "cell_type": "markdown",
   "id": "e109ef89-d73d-48c5-bb97-baa6b94ec8a3",
   "metadata": {},
   "source": [
    "# Indexing and slicing"
   ]
  },
  {
   "cell_type": "code",
   "execution_count": 91,
   "id": "8dbc9a38-39d1-453f-a40c-67aec7494bc1",
   "metadata": {},
   "outputs": [],
   "source": [
    "arr = np.array([[1,2,3],[4,5,6],[7,8,9],[10,11,12]])"
   ]
  },
  {
   "cell_type": "code",
   "execution_count": 93,
   "id": "9d6f2ae4-9bb7-4c71-bb0c-b423f9897a62",
   "metadata": {},
   "outputs": [],
   "source": [
    "flat=arr.flatten()"
   ]
  },
  {
   "cell_type": "code",
   "execution_count": 95,
   "id": "fc0f6215-1229-4526-9b60-d9292ad75936",
   "metadata": {},
   "outputs": [
    {
     "data": {
      "text/plain": [
       "array([ 1,  2,  3,  4,  5,  6,  7,  8,  9, 10, 11, 12])"
      ]
     },
     "execution_count": 95,
     "metadata": {},
     "output_type": "execute_result"
    }
   ],
   "source": [
    "flat"
   ]
  },
  {
   "cell_type": "code",
   "execution_count": 97,
   "id": "c2516896-559f-4835-bb63-0d8c0d2ec7c9",
   "metadata": {},
   "outputs": [
    {
     "data": {
      "text/plain": [
       "1"
      ]
     },
     "execution_count": 97,
     "metadata": {},
     "output_type": "execute_result"
    }
   ],
   "source": [
    "flat[0]"
   ]
  },
  {
   "cell_type": "code",
   "execution_count": 99,
   "id": "d7100184-fb3b-47fb-ad7e-032959338d06",
   "metadata": {},
   "outputs": [
    {
     "data": {
      "text/plain": [
       "4"
      ]
     },
     "execution_count": 99,
     "metadata": {},
     "output_type": "execute_result"
    }
   ],
   "source": [
    "flat[3]"
   ]
  },
  {
   "cell_type": "code",
   "execution_count": 101,
   "id": "c987ae1c-d2d8-4ef0-b317-c1119033a60e",
   "metadata": {},
   "outputs": [
    {
     "data": {
      "text/plain": [
       "5"
      ]
     },
     "execution_count": 101,
     "metadata": {},
     "output_type": "execute_result"
    }
   ],
   "source": [
    "flat[4]"
   ]
  },
  {
   "cell_type": "code",
   "execution_count": 103,
   "id": "a78234e9-2d8b-4b82-a96b-6fc26c5c4538",
   "metadata": {},
   "outputs": [
    {
     "data": {
      "text/plain": [
       "array([4, 5, 6])"
      ]
     },
     "execution_count": 103,
     "metadata": {},
     "output_type": "execute_result"
    }
   ],
   "source": [
    "flat[3:6]"
   ]
  },
  {
   "cell_type": "code",
   "execution_count": 107,
   "id": "b80e2459-3ef9-4c0c-835f-ee3657914bbb",
   "metadata": {},
   "outputs": [
    {
     "data": {
      "text/plain": [
       "array([1, 2, 3, 4, 5])"
      ]
     },
     "execution_count": 107,
     "metadata": {},
     "output_type": "execute_result"
    }
   ],
   "source": [
    "flat[:5] # same as flat[0:5]"
   ]
  },
  {
   "cell_type": "code",
   "execution_count": 111,
   "id": "9daf7c74-1d14-4aaa-9f1f-14e441392e3d",
   "metadata": {},
   "outputs": [
    {
     "data": {
      "text/plain": [
       "array([ 4,  5,  6,  7,  8,  9, 10, 11, 12])"
      ]
     },
     "execution_count": 111,
     "metadata": {},
     "output_type": "execute_result"
    }
   ],
   "source": [
    "flat[3:] #same as flat[3:13]"
   ]
  },
  {
   "cell_type": "code",
   "execution_count": 115,
   "id": "b9840f06-aae5-457b-9213-102e264621d6",
   "metadata": {},
   "outputs": [
    {
     "data": {
      "text/plain": [
       "array([ 1,  3,  5,  7,  9, 11])"
      ]
     },
     "execution_count": 115,
     "metadata": {},
     "output_type": "execute_result"
    }
   ],
   "source": [
    "flat[::2] # evry second element"
   ]
  },
  {
   "cell_type": "markdown",
   "id": "c9c951f7-168f-4b61-9ced-d1fe07f1a58f",
   "metadata": {},
   "source": [
    "Slicing returns a view, not a copy! Changes affect the original array.**\n",
    "This might seem counterintuitive since Python lists create copies when sliced. But in NumPy, slicing returns a view of the original array. Both the sliced array and the original array share the same data in memory, so changes in the slice affect the original array."
   ]
  },
  {
   "cell_type": "code",
   "execution_count": 117,
   "id": "03d935ff-4f54-46d4-bf50-3866662dc90c",
   "metadata": {},
   "outputs": [
    {
     "data": {
      "text/plain": [
       "array([ 1,  2,  3,  4,  5,  6,  7,  8,  9, 10, 11, 12])"
      ]
     },
     "execution_count": 117,
     "metadata": {},
     "output_type": "execute_result"
    }
   ],
   "source": [
    "flat"
   ]
  },
  {
   "cell_type": "code",
   "execution_count": 121,
   "id": "59949ad7-917f-4911-8f0f-dc98ce2d1daf",
   "metadata": {},
   "outputs": [
    {
     "data": {
      "text/plain": [
       "array([4, 5, 6, 7])"
      ]
     },
     "execution_count": 121,
     "metadata": {},
     "output_type": "execute_result"
    }
   ],
   "source": [
    "b = flat[3:7]\n",
    "b"
   ]
  },
  {
   "cell_type": "code",
   "execution_count": 123,
   "id": "6ac50425-4f99-485f-b7f5-ed11efcdcedf",
   "metadata": {},
   "outputs": [],
   "source": [
    "b[0]=4444"
   ]
  },
  {
   "cell_type": "code",
   "execution_count": 125,
   "id": "54a79055-1a41-4848-b9ec-bc1586a358e4",
   "metadata": {},
   "outputs": [
    {
     "data": {
      "text/plain": [
       "array([4444,    5,    6,    7])"
      ]
     },
     "execution_count": 125,
     "metadata": {},
     "output_type": "execute_result"
    }
   ],
   "source": [
    "b"
   ]
  },
  {
   "cell_type": "code",
   "execution_count": 127,
   "id": "24323c5e-a487-46f9-9260-f044bf878b73",
   "metadata": {},
   "outputs": [
    {
     "data": {
      "text/plain": [
       "array([   1,    2,    3, 4444,    5,    6,    7,    8,    9,   10,   11,\n",
       "         12])"
      ]
     },
     "execution_count": 127,
     "metadata": {},
     "output_type": "execute_result"
    }
   ],
   "source": [
    "flat"
   ]
  },
  {
   "cell_type": "markdown",
   "id": "2961fe3f-b02b-4b88-abaf-857e6973440f",
   "metadata": {},
   "source": [
    "if we want to use copy then"
   ]
  },
  {
   "cell_type": "code",
   "execution_count": 131,
   "id": "0ddfab32-ad21-4868-8918-f182517571bc",
   "metadata": {},
   "outputs": [],
   "source": [
    "b = flat.copy()"
   ]
  },
  {
   "cell_type": "code",
   "execution_count": 133,
   "id": "0f9e793a-452a-48b9-9437-992aceb19c7f",
   "metadata": {},
   "outputs": [
    {
     "data": {
      "text/plain": [
       "array([   1,    2,    3, 4444,    5,    6,    7,    8,    9,   10,   11,\n",
       "         12])"
      ]
     },
     "execution_count": 133,
     "metadata": {},
     "output_type": "execute_result"
    }
   ],
   "source": [
    "b"
   ]
  },
  {
   "cell_type": "code",
   "execution_count": 135,
   "id": "915a0d82-87b0-4482-b397-e8b1585e3b52",
   "metadata": {},
   "outputs": [],
   "source": [
    "b[2] = 100"
   ]
  },
  {
   "cell_type": "code",
   "execution_count": 137,
   "id": "33ed47ed-b03b-4766-8fcd-2e13f06e629e",
   "metadata": {},
   "outputs": [
    {
     "data": {
      "text/plain": [
       "array([   1,    2,  100, 4444,    5,    6,    7,    8,    9,   10,   11,\n",
       "         12])"
      ]
     },
     "execution_count": 137,
     "metadata": {},
     "output_type": "execute_result"
    }
   ],
   "source": [
    "b"
   ]
  },
  {
   "cell_type": "code",
   "execution_count": 139,
   "id": "065b153f-fd5e-4bc8-8268-20f4b2876006",
   "metadata": {},
   "outputs": [
    {
     "data": {
      "text/plain": [
       "array([   1,    2,    3, 4444,    5,    6,    7,    8,    9,   10,   11,\n",
       "         12])"
      ]
     },
     "execution_count": 139,
     "metadata": {},
     "output_type": "execute_result"
    }
   ],
   "source": [
    "flat"
   ]
  },
  {
   "cell_type": "markdown",
   "id": "f1e6d4b9-4868-4ec3-92ab-0a6cbb249681",
   "metadata": {},
   "source": [
    "- Hence there is no change "
   ]
  },
  {
   "cell_type": "markdown",
   "id": "5e94e577-119c-4a4a-b273-ec1b34b23519",
   "metadata": {},
   "source": [
    "# Fancy indexing and boolean masking"
   ]
  },
  {
   "cell_type": "code",
   "execution_count": 143,
   "id": "0fec2268-13e8-4d1a-a16a-e6428dd4cd44",
   "metadata": {},
   "outputs": [
    {
     "data": {
      "text/plain": [
       "array([1, 5, 7])"
      ]
     },
     "execution_count": 143,
     "metadata": {},
     "output_type": "execute_result"
    }
   ],
   "source": [
    "arr = np.array([1,2,3,4,5,6,7,8])\n",
    "arr[[0,4,6]] # 0,4,6 are index and it gives values of that particular indexes"
   ]
  },
  {
   "cell_type": "markdown",
   "id": "f0d991af-1d32-4bd6-91e0-b60ab74b2289",
   "metadata": {},
   "source": [
    "# Boolean masking"
   ]
  },
  {
   "cell_type": "code",
   "execution_count": 152,
   "id": "bf3ce962-e4f7-4ac4-bfd7-dd39a9043d1f",
   "metadata": {},
   "outputs": [
    {
     "data": {
      "text/plain": [
       "array([4, 5, 6, 7, 8])"
      ]
     },
     "execution_count": 152,
     "metadata": {},
     "output_type": "execute_result"
    }
   ],
   "source": [
    "arr = np.array([1,2,3,4,5,6,7,8])\n",
    "arr[arr>3]   # condition : values greater than 3"
   ]
  },
  {
   "cell_type": "markdown",
   "id": "157baa0b-d8d7-4627-a6ac-be35ec3c9182",
   "metadata": {},
   "source": [
    "# Excerise"
   ]
  },
  {
   "cell_type": "markdown",
   "id": "bb3afe29-051c-420e-88e1-77c4c9c4aa7e",
   "metadata": {},
   "source": [
    "- Create a 3×3 array filled with random numbers and print its shape."
   ]
  },
  {
   "cell_type": "code",
   "execution_count": 156,
   "id": "6436e82c-3ce7-4a07-8c18-fcd5513a4cf3",
   "metadata": {},
   "outputs": [
    {
     "data": {
      "text/plain": [
       "array([[ 1,  2,  3],\n",
       "       [ 4,  5,  6],\n",
       "       [ 8,  9, 55]])"
      ]
     },
     "execution_count": 156,
     "metadata": {},
     "output_type": "execute_result"
    }
   ],
   "source": [
    "arr = np.array([[1,2,3],[4,5,6],[8,9,55]])\n",
    "arr"
   ]
  },
  {
   "cell_type": "code",
   "execution_count": 160,
   "id": "54850c96-f838-43c2-9a51-7a1ce9448b16",
   "metadata": {},
   "outputs": [
    {
     "data": {
      "text/plain": [
       "(3, 3)"
      ]
     },
     "execution_count": 160,
     "metadata": {},
     "output_type": "execute_result"
    }
   ],
   "source": [
    "arr.shape"
   ]
  },
  {
   "cell_type": "markdown",
   "id": "3e0a58f6-e7d9-4436-b46d-228d283d0d86",
   "metadata": {},
   "source": [
    "- Convert an array of floats [1.1, 2.2, 3.3] into integers."
   ]
  },
  {
   "cell_type": "code",
   "execution_count": 163,
   "id": "0f397c6e-b0bf-490b-881a-fa4cf4165250",
   "metadata": {},
   "outputs": [
    {
     "data": {
      "text/plain": [
       "array([1.1, 2.2, 3.3])"
      ]
     },
     "execution_count": 163,
     "metadata": {},
     "output_type": "execute_result"
    }
   ],
   "source": [
    "arr2 = np.array([1.1, 2.2, 3.3])\n",
    "arr2"
   ]
  },
  {
   "cell_type": "code",
   "execution_count": 165,
   "id": "e9f3172d-4bd4-4ecc-be9d-64b247b7c73d",
   "metadata": {},
   "outputs": [
    {
     "data": {
      "text/plain": [
       "dtype('float64')"
      ]
     },
     "execution_count": 165,
     "metadata": {},
     "output_type": "execute_result"
    }
   ],
   "source": [
    "arr2.dtype"
   ]
  },
  {
   "cell_type": "code",
   "execution_count": 185,
   "id": "529eb5e8-25c0-41f2-a8e3-5c67f3be0ddb",
   "metadata": {},
   "outputs": [
    {
     "data": {
      "text/plain": [
       "array([1.1, 2.2, 3.3])"
      ]
     },
     "execution_count": 185,
     "metadata": {},
     "output_type": "execute_result"
    }
   ],
   "source": [
    "arr2 = np.array([1.1, 2.2, 3.3])\n",
    "arr2"
   ]
  },
  {
   "cell_type": "code",
   "execution_count": 183,
   "id": "8eb05155-346d-4eae-8e50-397f3601fcf1",
   "metadata": {},
   "outputs": [
    {
     "data": {
      "text/plain": [
       "array([1, 2, 3])"
      ]
     },
     "execution_count": 183,
     "metadata": {},
     "output_type": "execute_result"
    }
   ],
   "source": [
    "arr2 = np.array([1.1,2.2,3.3], dtype=\"int\")\n",
    "arr2"
   ]
  },
  {
   "cell_type": "code",
   "execution_count": 187,
   "id": "6eb90278-70c5-4e6e-9c22-1b41c06096e4",
   "metadata": {},
   "outputs": [],
   "source": [
    "arr3=arr2.astype('int')"
   ]
  },
  {
   "cell_type": "code",
   "execution_count": 189,
   "id": "0a25f187-8845-4b77-8406-0810d4fe32aa",
   "metadata": {},
   "outputs": [
    {
     "data": {
      "text/plain": [
       "array([1, 2, 3])"
      ]
     },
     "execution_count": 189,
     "metadata": {},
     "output_type": "execute_result"
    }
   ],
   "source": [
    "arr3"
   ]
  },
  {
   "cell_type": "markdown",
   "id": "65608e06-0730-4cc2-91c5-758b89cb4ac3",
   "metadata": {},
   "source": [
    "- Use fancy indexing to extract even numbers from [1, 2, 3, 4, 5, 6]"
   ]
  },
  {
   "cell_type": "code",
   "execution_count": 198,
   "id": "502f2334-51cc-4349-9b44-bbfcd0cfdf7e",
   "metadata": {},
   "outputs": [
    {
     "data": {
      "text/plain": [
       "array([2, 4, 6])"
      ]
     },
     "execution_count": 198,
     "metadata": {},
     "output_type": "execute_result"
    }
   ],
   "source": [
    "arr4 = np.array([1,2,3,4,5,6])\n",
    "arr4[[1,3,5]]"
   ]
  },
  {
   "cell_type": "markdown",
   "id": "5d35bc63-3aa0-4647-ba12-f90ae8c60699",
   "metadata": {},
   "source": [
    "- Reshape a 1D array of size 9 into a 3×3 matrix."
   ]
  },
  {
   "cell_type": "code",
   "execution_count": 201,
   "id": "876d5b43-cabd-4b9b-891f-f3bb2288ed66",
   "metadata": {},
   "outputs": [
    {
     "data": {
      "text/plain": [
       "array([[2, 4, 5],\n",
       "       [6, 7, 8],\n",
       "       [9, 8, 6]])"
      ]
     },
     "execution_count": 201,
     "metadata": {},
     "output_type": "execute_result"
    }
   ],
   "source": [
    "arr5 = np.array([2,4,5,6,7,8,9,8,6])\n",
    "arr5.reshape((3,3))"
   ]
  },
  {
   "cell_type": "markdown",
   "id": "ae9dc1e9-d163-4ecb-bc91-9b6c561562ea",
   "metadata": {},
   "source": [
    "- Use boolean masking to filter numbers greater than 50 in an array."
   ]
  },
  {
   "cell_type": "code",
   "execution_count": 204,
   "id": "14cbea39-18a5-451b-8225-bfcb681f0968",
   "metadata": {},
   "outputs": [
    {
     "data": {
      "text/plain": [
       "array([55, 67, 87, 89])"
      ]
     },
     "execution_count": 204,
     "metadata": {},
     "output_type": "execute_result"
    }
   ],
   "source": [
    "arr6=np.array([1,2,3,55,67,87,4,5,6,89])\n",
    "arr6[arr6>50]"
   ]
  },
  {
   "cell_type": "markdown",
   "id": "13e3d7d2-b769-45a8-8a5f-72a3752cca5d",
   "metadata": {},
   "source": [
    "# Data types in numpy"
   ]
  },
  {
   "cell_type": "code",
   "execution_count": 209,
   "id": "59d0428a-f022-44e2-9f3f-ff6e100a1173",
   "metadata": {},
   "outputs": [
    {
     "data": {
      "text/plain": [
       "dtype('int32')"
      ]
     },
     "execution_count": 209,
     "metadata": {},
     "output_type": "execute_result"
    }
   ],
   "source": [
    "import numpy as np\n",
    "arr = np.array([1,2,3,4,5])\n",
    "arr.dtype"
   ]
  },
  {
   "cell_type": "code",
   "execution_count": 211,
   "id": "d6fd66a8-9d69-40fa-977a-7bee090d8986",
   "metadata": {},
   "outputs": [
    {
     "data": {
      "text/plain": [
       "array([1., 2., 3., 4., 5.], dtype=float32)"
      ]
     },
     "execution_count": 211,
     "metadata": {},
     "output_type": "execute_result"
    }
   ],
   "source": [
    "arr.astype('float32')"
   ]
  },
  {
   "cell_type": "code",
   "execution_count": 215,
   "id": "d80fb7f8-2577-40d8-b373-cafb42bf6ac7",
   "metadata": {},
   "outputs": [
    {
     "data": {
      "text/plain": [
       "20"
      ]
     },
     "execution_count": 215,
     "metadata": {},
     "output_type": "execute_result"
    }
   ],
   "source": [
    "arr.nbytes  # 20 bytes used"
   ]
  },
  {
   "cell_type": "markdown",
   "id": "c4ff94a5-efd3-443f-8682-016ae69dfdee",
   "metadata": {},
   "source": [
    "# Broadcasting"
   ]
  },
  {
   "cell_type": "markdown",
   "id": "84e41ea4-789c-45fc-9373-5e532146fcd5",
   "metadata": {},
   "source": [
    "- vectorization: Fixing the loop problems"
   ]
  },
  {
   "cell_type": "code",
   "execution_count": 232,
   "id": "eee5f308-e0ac-4923-a086-4c7ec9c4f26c",
   "metadata": {},
   "outputs": [
    {
     "name": "stdout",
     "output_type": "stream",
     "text": [
      "[ 1  4  9 16 25]\n"
     ]
    }
   ],
   "source": [
    "arr = np.array([1,2,3,4,5])\n",
    "result = arr**2 # vectorized operation\n",
    "print(result)  # This is faster than using loops"
   ]
  },
  {
   "cell_type": "code",
   "execution_count": 234,
   "id": "46348c7f-97fd-46e5-bfd6-519f27057171",
   "metadata": {},
   "outputs": [
    {
     "data": {
      "text/plain": [
       "array([21, 24, 29, 36, 45])"
      ]
     },
     "execution_count": 234,
     "metadata": {},
     "output_type": "execute_result"
    }
   ],
   "source": [
    "result + 20"
   ]
  },
  {
   "cell_type": "code",
   "execution_count": 240,
   "id": "7345091c-8c76-4c32-9e5c-9dfda155adc2",
   "metadata": {},
   "outputs": [
    {
     "name": "stdout",
     "output_type": "stream",
     "text": [
      "[[ 2  4  7]\n",
      " [ 7  9 12]]\n"
     ]
    }
   ],
   "source": [
    "arr1 = np.array([[1,2,3],[6,7,8]])\n",
    "arr2 = np.array([1,2,4])\n",
    "result = arr1+ arr2  # Broadcasting arr2 accross arr1\n",
    "print(result)"
   ]
  },
  {
   "cell_type": "markdown",
   "id": "40c7ab41-0e9b-4944-83db-729f4eb40c96",
   "metadata": {},
   "source": [
    "# Hand on applying broadcasting"
   ]
  },
  {
   "cell_type": "code",
   "execution_count": 247,
   "id": "93cfb55b-481a-4f5e-a7b3-dad76ba96509",
   "metadata": {},
   "outputs": [
    {
     "name": "stdout",
     "output_type": "stream",
     "text": [
      "[[-1.27872403 -1.27872403 -1.27872403]\n",
      " [ 0.11624764  0.11624764  0.11624764]\n",
      " [ 1.16247639  1.16247639  1.16247639]]\n"
     ]
    }
   ],
   "source": [
    "data = np.array([[10,20,30],\n",
    "                 [50,60,70],\n",
    "                 [80,90,100]])\n",
    "# Finding mean and std of data\n",
    "mean=data.mean(axis=0)\n",
    "std=data.std(axis=0)\n",
    "# Normalizing the data using broadcasting\n",
    "normalized_data = (data-mean)/std\n",
    "print(normalized_data)"
   ]
  },
  {
   "cell_type": "markdown",
   "id": "45314aed-5f28-44a7-a998-7db9df5a96bf",
   "metadata": {},
   "source": [
    "# Built in mathematical functions in numpy"
   ]
  },
  {
   "cell_type": "code",
   "execution_count": 250,
   "id": "6c34e6ff-786b-4c79-b5f7-3e3f0951330b",
   "metadata": {},
   "outputs": [
    {
     "data": {
      "text/plain": [
       "3.0"
      ]
     },
     "execution_count": 250,
     "metadata": {},
     "output_type": "execute_result"
    }
   ],
   "source": [
    "arr = np.array([1,2,3,4,5])\n",
    "np.mean(arr)"
   ]
  },
  {
   "cell_type": "code",
   "execution_count": 252,
   "id": "8281f252-2a52-41dc-b9ad-d42ea2fa0bcf",
   "metadata": {},
   "outputs": [
    {
     "data": {
      "text/plain": [
       "5"
      ]
     },
     "execution_count": 252,
     "metadata": {},
     "output_type": "execute_result"
    }
   ],
   "source": [
    "np.max(arr)"
   ]
  },
  {
   "cell_type": "code",
   "execution_count": 256,
   "id": "efeb17eb-7c1d-4840-bbcb-501988c6447e",
   "metadata": {},
   "outputs": [
    {
     "data": {
      "text/plain": [
       "1"
      ]
     },
     "execution_count": 256,
     "metadata": {},
     "output_type": "execute_result"
    }
   ],
   "source": [
    "np.min(arr)"
   ]
  },
  {
   "cell_type": "code",
   "execution_count": 260,
   "id": "7307d436-876c-470e-83c2-14136a7bf907",
   "metadata": {},
   "outputs": [
    {
     "data": {
      "text/plain": [
       "2.0"
      ]
     },
     "execution_count": 260,
     "metadata": {},
     "output_type": "execute_result"
    }
   ],
   "source": [
    "np.var(arr) # variance"
   ]
  },
  {
   "cell_type": "code",
   "execution_count": 262,
   "id": "ebc384fa-0990-4825-89b4-4fdf56a11540",
   "metadata": {},
   "outputs": [
    {
     "data": {
      "text/plain": [
       "1.4142135623730951"
      ]
     },
     "execution_count": 262,
     "metadata": {},
     "output_type": "execute_result"
    }
   ],
   "source": [
    "np.std(arr)"
   ]
  },
  {
   "cell_type": "code",
   "execution_count": 264,
   "id": "75352da2-f604-443a-9caf-8170e774713f",
   "metadata": {},
   "outputs": [
    {
     "data": {
      "text/plain": [
       "15"
      ]
     },
     "execution_count": 264,
     "metadata": {},
     "output_type": "execute_result"
    }
   ],
   "source": [
    "np.sum(arr)"
   ]
  },
  {
   "cell_type": "code",
   "execution_count": 266,
   "id": "f158c23a-335e-4acb-8064-1d2bc20a255a",
   "metadata": {},
   "outputs": [
    {
     "data": {
      "text/plain": [
       "120"
      ]
     },
     "execution_count": 266,
     "metadata": {},
     "output_type": "execute_result"
    }
   ],
   "source": [
    "np.prod(arr)"
   ]
  },
  {
   "cell_type": "code",
   "execution_count": 270,
   "id": "9bcd315f-27fa-48e1-8dc3-abb5b979b529",
   "metadata": {},
   "outputs": [
    {
     "data": {
      "text/plain": [
       "3.0"
      ]
     },
     "execution_count": 270,
     "metadata": {},
     "output_type": "execute_result"
    }
   ],
   "source": [
    "np.median(arr)"
   ]
  },
  {
   "cell_type": "code",
   "execution_count": 272,
   "id": "47f3566b-03be-4219-b3ca-f0a97e55dfad",
   "metadata": {},
   "outputs": [
    {
     "data": {
      "text/plain": [
       "3.0"
      ]
     },
     "execution_count": 272,
     "metadata": {},
     "output_type": "execute_result"
    }
   ],
   "source": [
    "np.percentile(arr,50)"
   ]
  },
  {
   "cell_type": "code",
   "execution_count": 276,
   "id": "97daeaac-9a69-49c6-bf0b-b8ebd7936a06",
   "metadata": {},
   "outputs": [
    {
     "data": {
      "text/plain": [
       "4"
      ]
     },
     "execution_count": 276,
     "metadata": {},
     "output_type": "execute_result"
    }
   ],
   "source": [
    "np.argmax(arr) # In index 4 there is maxium value"
   ]
  },
  {
   "cell_type": "code",
   "execution_count": 280,
   "id": "d01c64ae-2878-4052-903f-cf923fcc0de0",
   "metadata": {},
   "outputs": [
    {
     "data": {
      "text/plain": [
       "0"
      ]
     },
     "execution_count": 280,
     "metadata": {},
     "output_type": "execute_result"
    }
   ],
   "source": [
    "np.argmin(arr) # In index 0 there is min value"
   ]
  },
  {
   "cell_type": "code",
   "execution_count": 282,
   "id": "220e2787-c370-469d-a7e5-cacf945e9701",
   "metadata": {},
   "outputs": [
    {
     "data": {
      "text/plain": [
       "1.0"
      ]
     },
     "execution_count": 282,
     "metadata": {},
     "output_type": "execute_result"
    }
   ],
   "source": [
    "np.corrcoef(arr)"
   ]
  },
  {
   "cell_type": "code",
   "execution_count": 286,
   "id": "229ae422-e986-418a-a9a9-d82c47c4674f",
   "metadata": {},
   "outputs": [
    {
     "data": {
      "text/plain": [
       "array([ 1,  2,  3,  4,  5,  6,  7,  8,  9, 55])"
      ]
     },
     "execution_count": 286,
     "metadata": {},
     "output_type": "execute_result"
    }
   ],
   "source": [
    "arr2=np.array([1,1,2,3,4,55,55,6,7,7,8,8,9,5])\n",
    "np.unique(arr2) # Give unique value"
   ]
  },
  {
   "cell_type": "code",
   "execution_count": 288,
   "id": "1d1a644a-ad9a-4b62-a850-72f20f8cfa35",
   "metadata": {},
   "outputs": [
    {
     "data": {
      "text/plain": [
       "array([ 1,  3,  6, 10, 15])"
      ]
     },
     "execution_count": 288,
     "metadata": {},
     "output_type": "execute_result"
    }
   ],
   "source": [
    "np.cumsum(arr)"
   ]
  },
  {
   "cell_type": "code",
   "execution_count": null,
   "id": "f7a7e3d9-d2fd-46ce-b900-2b94ac45ceeb",
   "metadata": {},
   "outputs": [],
   "source": []
  }
 ],
 "metadata": {
  "kernelspec": {
   "display_name": "Python 3 (ipykernel)",
   "language": "python",
   "name": "python3"
  },
  "language_info": {
   "codemirror_mode": {
    "name": "ipython",
    "version": 3
   },
   "file_extension": ".py",
   "mimetype": "text/x-python",
   "name": "python",
   "nbconvert_exporter": "python",
   "pygments_lexer": "ipython3",
   "version": "3.12.7"
  }
 },
 "nbformat": 4,
 "nbformat_minor": 5
}
